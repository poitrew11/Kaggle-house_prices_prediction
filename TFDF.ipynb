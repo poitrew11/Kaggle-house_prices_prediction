{
 "cells": [
  {
   "cell_type": "code",
   "execution_count": 6,
   "id": "99d74fd9-0ecb-43de-a1cd-09fa5ac21853",
   "metadata": {},
   "outputs": [
    {
     "name": "stdout",
     "output_type": "stream",
     "text": [
      "Example of training: (1107, 80), Example of validation: (353, 80)\n"
     ]
    }
   ],
   "source": [
    "import numpy as np\n",
    "import pandas as pd\n",
    "import tensorflow as tf\n",
    "import tensorflow_decision_forests as tfdf\n",
    "\n",
    "dataset = pd.read_csv('train.csv')\n",
    "dataset = dataset.drop(['Id'], axis = 1)\n",
    "dataset_num = dataset.select_dtypes(include = ['float64', 'int64'])\n",
    "\n",
    "def split_dataset(dataset, test_size = 0.25):\n",
    "    test_indeces = np.random.rand(len(dataset)) < test_size\n",
    "    return dataset[~test_indeces], dataset[test_indeces]\n",
    "\n",
    "train_ds_pd, valid_ds_pd = split_dataset(dataset, test_size = 0.25)\n",
    "print(f\"Example of training: {train_ds_pd.shape}, Example of validation: {valid_ds_pd.shape}\")"
   ]
  },
  {
   "cell_type": "code",
   "execution_count": 10,
   "id": "0ee9ea53-1ab0-4f47-94df-ed6463eaed45",
   "metadata": {},
   "outputs": [
    {
     "data": {
      "text/plain": [
       "[tensorflow_decision_forests.keras.RandomForestModel,\n",
       " tensorflow_decision_forests.keras.GradientBoostedTreesModel,\n",
       " tensorflow_decision_forests.keras.CartModel,\n",
       " tensorflow_decision_forests.keras.DistributedGradientBoostedTreesModel]"
      ]
     },
     "execution_count": 10,
     "metadata": {},
     "output_type": "execute_result"
    }
   ],
   "source": [
    "label = 'SalePrice'\n",
    "train_ds = tfdf.keras.pd_dataframe_to_tf_dataset(train_ds_pd, label = label, task = tfdf.keras.Task.REGRESSION)\n",
    "valid_ds = tfdf.keras.pd_dataframe_to_tf_dataset(valid_ds_pd, label = label, task = tfdf.keras.Task.REGRESSION)\n",
    "tfdf.keras.get_all_models()"
   ]
  },
  {
   "cell_type": "code",
   "execution_count": null,
   "id": "766b59f7-e412-4bb4-86c9-f92a86e65c57",
   "metadata": {},
   "outputs": [],
   "source": [
    "tuner = tfdf.tuner.RandomSearch(num_trials = 15, use_predefined_hps = True)\n",
    "tuned_model = tfdf.keras.GradientBoostedTreesModel(tuner = tuner, task = tfdf.keras.Task.REGRESSION)\n",
    "tuned_model.fit(train_ds, validation_data = valid_ds, verbose = 2)"
   ]
  },
  {
   "cell_type": "code",
   "execution_count": 12,
   "id": "7ae76fbf-8369-41ec-a5bb-654d79520998",
   "metadata": {},
   "outputs": [
    {
     "name": "stdout",
     "output_type": "stream",
     "text": [
      "score                                           -28768.640625\n",
      "evaluation_time                                    470.986292\n",
      "best                                                     True\n",
      "split_axis                                     SPARSE_OBLIQUE\n",
      "sparse_oblique_projection_density_factor                  5.0\n",
      "sparse_oblique_normalization                          MIN_MAX\n",
      "sparse_oblique_weights                             CONTINUOUS\n",
      "categorical_algorithm                                  RANDOM\n",
      "growing_strategy                            BEST_FIRST_GLOBAL\n",
      "max_num_nodes                                           128.0\n",
      "sampling_method                                        RANDOM\n",
      "subsample                                                 0.9\n",
      "shrinkage                                                0.05\n",
      "min_examples                                               20\n",
      "num_candidate_attributes_ratio                            0.9\n",
      "max_depth                                                 NaN\n",
      "Name: 9, dtype: object\n"
     ]
    }
   ],
   "source": [
    "tuning_logs = tuned_model.make_inspector().tuning_logs()\n",
    "best_params = tuning_logs[tuning_logs.best].iloc[0]\n",
    "print(best_params)"
   ]
  },
  {
   "cell_type": "code",
   "execution_count": null,
   "id": "12125799-d8d1-47cf-85cd-7e606ace6265",
   "metadata": {},
   "outputs": [],
   "source": [
    "best_model = tfdf.keras.GradientBoostedTreesModel(\n",
    "    task=tfdf.keras.Task.REGRESSION,           \n",
    "    split_axis=\"SPARSE_OBLIQUE\",            \n",
    "    sparse_oblique_projection_density_factor=5.0, \n",
    "    sparse_oblique_normalization=\"MIN_MAX\",     \n",
    "    sparse_oblique_weights=\"CONTINUOUS\",       \n",
    "    categorical_algorithm=\"RANDOM\",           \n",
    "    growing_strategy=\"BEST_FIRST_GLOBAL\",       \n",
    "    max_num_nodes=128.0,                      \n",
    "    sampling_method=\"RANDOM\",             \n",
    "    subsample=0.9,                      \n",
    "    shrinkage=0.05,              \n",
    "    min_examples=20,                             \n",
    "    num_candidate_attributes_ratio=0.9\n",
    ")\n",
    "\n",
    "best_model.compile(metrics = ['MSE'])\n",
    "best_model.fit(train_ds, validation_data = valid_ds, verbose = 5)\n",
    "evaluation = best_model.evaluate(valid_ds)\n",
    "print(f\"metrics: {evaluation[0]**0.5}\")"
   ]
  },
  {
   "cell_type": "code",
   "execution_count": 16,
   "id": "452be6dd-bb65-43b5-a3d3-06c4a8e73e21",
   "metadata": {},
   "outputs": [
    {
     "name": "stdout",
     "output_type": "stream",
     "text": [
      "1/1 [==============================] - 0s 103ms/step\n",
      "0.14408254997535644\n"
     ]
    }
   ],
   "source": [
    "from sklearn.metrics import mean_squared_error\n",
    "y_predicted = best_model.predict(valid_ds)\n",
    "y_truee = valid_ds_pd['SalePrice'].values\n",
    "rmse = np.sqrt(mean_squared_error(np.log(y_truee), np.log(y_predicted)))\n",
    "print(rmse)"
   ]
  },
  {
   "cell_type": "code",
   "execution_count": null,
   "id": "e60a802a-13da-4403-a1f2-773d86e3181a",
   "metadata": {},
   "outputs": [],
   "source": []
  }
 ],
 "metadata": {
  "kernelspec": {
   "display_name": "Python 3 (ipykernel)",
   "language": "python",
   "name": "python3"
  },
  "language_info": {
   "codemirror_mode": {
    "name": "ipython",
    "version": 3
   },
   "file_extension": ".py",
   "mimetype": "text/x-python",
   "name": "python",
   "nbconvert_exporter": "python",
   "pygments_lexer": "ipython3",
   "version": "3.12.3"
  }
 },
 "nbformat": 4,
 "nbformat_minor": 5
}
